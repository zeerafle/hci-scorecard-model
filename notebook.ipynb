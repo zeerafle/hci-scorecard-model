{
 "cells": [
  {
   "metadata": {},
   "cell_type": "markdown",
   "source": " # Home Credit Scorecard Model ",
   "id": "39acdb17c28e8c21"
  },
  {
   "cell_type": "code",
   "id": "initial_id",
   "metadata": {
    "collapsed": true,
    "ExecuteTime": {
     "end_time": "2024-05-27T13:15:37.410627Z",
     "start_time": "2024-05-27T13:15:34.712442Z"
    }
   },
   "source": [
    "from sklearn.metrics import mean_squared_error, mean_absolute_error, r2_score\n",
    "from sklearn.model_selection import train_test_split\n",
    "\n",
    "import pandas as pd\n",
    "import sqlite3\n",
    "import seaborn as sns\n",
    "import matplotlib.pyplot as plt\n",
    "\n",
    "plt.style.use('ggplot')"
   ],
   "outputs": [],
   "execution_count": 2
  },
  {
   "metadata": {
    "ExecuteTime": {
     "end_time": "2024-05-28T13:14:54.959055Z",
     "start_time": "2024-05-28T13:14:54.945973Z"
    }
   },
   "cell_type": "code",
   "source": "conn = sqlite3.connect('hci_application.db')",
   "id": "deefb27a0db9e218",
   "outputs": [
    {
     "ename": "NameError",
     "evalue": "name 'sqlite3' is not defined",
     "output_type": "error",
     "traceback": [
      "\u001B[1;31m---------------------------------------------------------------------------\u001B[0m",
      "\u001B[1;31mNameError\u001B[0m                                 Traceback (most recent call last)",
      "Cell \u001B[1;32mIn[1], line 1\u001B[0m\n\u001B[1;32m----> 1\u001B[0m conn \u001B[38;5;241m=\u001B[39m sqlite3\u001B[38;5;241m.\u001B[39mconnect(\u001B[38;5;124m'\u001B[39m\u001B[38;5;124mhci_application.db\u001B[39m\u001B[38;5;124m'\u001B[39m)\n",
      "\u001B[1;31mNameError\u001B[0m: name 'sqlite3' is not defined"
     ]
    }
   ],
   "execution_count": 1
  },
  {
   "metadata": {},
   "cell_type": "markdown",
   "source": "## EDA",
   "id": "80ebd728d8e5f7c7"
  },
  {
   "metadata": {
    "ExecuteTime": {
     "end_time": "2024-05-27T13:25:34.555633Z",
     "start_time": "2024-05-27T13:25:06.630253Z"
    }
   },
   "cell_type": "code",
   "source": [
    "df = pd.read_sql('dataset/application_train.csv')\n",
    "bureau = pd.read_csv('dataset/bureau.csv')\n",
    "bureau_balance = pd.read_csv('dataset/bureau_balance.csv')\n",
    "previous_application = pd.read_csv('dataset/previous_application.csv')\n",
    "credit_card_balance = pd.read_csv('dataset/credit_card_balance.csv')\n",
    "installments_payments = pd.read_csv('dataset/installments_payments.csv')\n",
    "pos_cash_balance = pd.read_csv('dataset/POS_CASH_balance.csv')"
   ],
   "id": "1fbf95bd42ba0312",
   "outputs": [],
   "execution_count": 7
  },
  {
   "metadata": {
    "ExecuteTime": {
     "end_time": "2024-05-27T13:35:14.767268Z",
     "start_time": "2024-05-27T13:35:14.757272Z"
    }
   },
   "cell_type": "code",
   "source": "installments_payments.head()",
   "id": "ebec7c576210b54",
   "outputs": [
    {
     "data": {
      "text/plain": [
       "   SK_ID_PREV  SK_ID_CURR  NUM_INSTALMENT_VERSION  NUM_INSTALMENT_NUMBER  \\\n",
       "0     1054186      161674                     1.0                      6   \n",
       "1     1330831      151639                     0.0                     34   \n",
       "2     2085231      193053                     2.0                      1   \n",
       "3     2452527      199697                     1.0                      3   \n",
       "4     2714724      167756                     1.0                      2   \n",
       "\n",
       "   DAYS_INSTALMENT  DAYS_ENTRY_PAYMENT  AMT_INSTALMENT  AMT_PAYMENT  \n",
       "0          -1180.0             -1187.0        6948.360     6948.360  \n",
       "1          -2156.0             -2156.0        1716.525     1716.525  \n",
       "2            -63.0               -63.0       25425.000    25425.000  \n",
       "3          -2418.0             -2426.0       24350.130    24350.130  \n",
       "4          -1383.0             -1366.0        2165.040     2160.585  "
      ],
      "text/html": [
       "<div>\n",
       "<style scoped>\n",
       "    .dataframe tbody tr th:only-of-type {\n",
       "        vertical-align: middle;\n",
       "    }\n",
       "\n",
       "    .dataframe tbody tr th {\n",
       "        vertical-align: top;\n",
       "    }\n",
       "\n",
       "    .dataframe thead th {\n",
       "        text-align: right;\n",
       "    }\n",
       "</style>\n",
       "<table border=\"1\" class=\"dataframe\">\n",
       "  <thead>\n",
       "    <tr style=\"text-align: right;\">\n",
       "      <th></th>\n",
       "      <th>SK_ID_PREV</th>\n",
       "      <th>SK_ID_CURR</th>\n",
       "      <th>NUM_INSTALMENT_VERSION</th>\n",
       "      <th>NUM_INSTALMENT_NUMBER</th>\n",
       "      <th>DAYS_INSTALMENT</th>\n",
       "      <th>DAYS_ENTRY_PAYMENT</th>\n",
       "      <th>AMT_INSTALMENT</th>\n",
       "      <th>AMT_PAYMENT</th>\n",
       "    </tr>\n",
       "  </thead>\n",
       "  <tbody>\n",
       "    <tr>\n",
       "      <th>0</th>\n",
       "      <td>1054186</td>\n",
       "      <td>161674</td>\n",
       "      <td>1.0</td>\n",
       "      <td>6</td>\n",
       "      <td>-1180.0</td>\n",
       "      <td>-1187.0</td>\n",
       "      <td>6948.360</td>\n",
       "      <td>6948.360</td>\n",
       "    </tr>\n",
       "    <tr>\n",
       "      <th>1</th>\n",
       "      <td>1330831</td>\n",
       "      <td>151639</td>\n",
       "      <td>0.0</td>\n",
       "      <td>34</td>\n",
       "      <td>-2156.0</td>\n",
       "      <td>-2156.0</td>\n",
       "      <td>1716.525</td>\n",
       "      <td>1716.525</td>\n",
       "    </tr>\n",
       "    <tr>\n",
       "      <th>2</th>\n",
       "      <td>2085231</td>\n",
       "      <td>193053</td>\n",
       "      <td>2.0</td>\n",
       "      <td>1</td>\n",
       "      <td>-63.0</td>\n",
       "      <td>-63.0</td>\n",
       "      <td>25425.000</td>\n",
       "      <td>25425.000</td>\n",
       "    </tr>\n",
       "    <tr>\n",
       "      <th>3</th>\n",
       "      <td>2452527</td>\n",
       "      <td>199697</td>\n",
       "      <td>1.0</td>\n",
       "      <td>3</td>\n",
       "      <td>-2418.0</td>\n",
       "      <td>-2426.0</td>\n",
       "      <td>24350.130</td>\n",
       "      <td>24350.130</td>\n",
       "    </tr>\n",
       "    <tr>\n",
       "      <th>4</th>\n",
       "      <td>2714724</td>\n",
       "      <td>167756</td>\n",
       "      <td>1.0</td>\n",
       "      <td>2</td>\n",
       "      <td>-1383.0</td>\n",
       "      <td>-1366.0</td>\n",
       "      <td>2165.040</td>\n",
       "      <td>2160.585</td>\n",
       "    </tr>\n",
       "  </tbody>\n",
       "</table>\n",
       "</div>"
      ]
     },
     "execution_count": 19,
     "metadata": {},
     "output_type": "execute_result"
    }
   ],
   "execution_count": 19
  },
  {
   "metadata": {
    "ExecuteTime": {
     "end_time": "2024-05-27T13:42:22.258723Z",
     "start_time": "2024-05-27T13:40:41.081208Z"
    }
   },
   "cell_type": "code",
   "source": [
    "merged_df = df.merge(bureau, on='SK_ID_CURR', how='left')\\\n",
    "    .merge(bureau_balance, on='SK_ID_BUREAU', how='left')\\\n",
    "    .merge(previous_application, on='SK_ID_CURR', how='left')\\\n",
    "    .merge(credit_card_balance, on='SK_ID_PREV', how='left')\\\n",
    "    .merge(installments_payments, on='SK_ID_PREV', how='left')\\\n",
    "    .merge(pos_cash_balance, on='SK_ID_PREV', how='left')\n",
    "\n",
    "merged_df.head() "
   ],
   "id": "aea790e175de23e6",
   "outputs": [
    {
     "ename": "MemoryError",
     "evalue": "Unable to allocate 1.87 GiB for an array with shape (16, 15687442) and data type object",
     "output_type": "error",
     "traceback": [
      "\u001B[1;31m---------------------------------------------------------------------------\u001B[0m",
      "\u001B[1;31mMemoryError\u001B[0m                               Traceback (most recent call last)",
      "Cell \u001B[1;32mIn[20], line 2\u001B[0m\n\u001B[0;32m      1\u001B[0m merged_df \u001B[38;5;241m=\u001B[39m df\u001B[38;5;241m.\u001B[39mmerge(bureau, on\u001B[38;5;241m=\u001B[39m\u001B[38;5;124m'\u001B[39m\u001B[38;5;124mSK_ID_CURR\u001B[39m\u001B[38;5;124m'\u001B[39m, how\u001B[38;5;241m=\u001B[39m\u001B[38;5;124m'\u001B[39m\u001B[38;5;124mleft\u001B[39m\u001B[38;5;124m'\u001B[39m)\\\n\u001B[1;32m----> 2\u001B[0m     \u001B[38;5;241m.\u001B[39mmerge(bureau_balance, on\u001B[38;5;241m=\u001B[39m\u001B[38;5;124m'\u001B[39m\u001B[38;5;124mSK_ID_BUREAU\u001B[39m\u001B[38;5;124m'\u001B[39m, how\u001B[38;5;241m=\u001B[39m\u001B[38;5;124m'\u001B[39m\u001B[38;5;124mleft\u001B[39m\u001B[38;5;124m'\u001B[39m)\\\n\u001B[0;32m      3\u001B[0m     \u001B[38;5;241m.\u001B[39mmerge(previous_application, on\u001B[38;5;241m=\u001B[39m\u001B[38;5;124m'\u001B[39m\u001B[38;5;124mSK_ID_CURR\u001B[39m\u001B[38;5;124m'\u001B[39m, how\u001B[38;5;241m=\u001B[39m\u001B[38;5;124m'\u001B[39m\u001B[38;5;124mleft\u001B[39m\u001B[38;5;124m'\u001B[39m)\\\n\u001B[0;32m      4\u001B[0m     \u001B[38;5;241m.\u001B[39mmerge(credit_card_balance, on\u001B[38;5;241m=\u001B[39m\u001B[38;5;124m'\u001B[39m\u001B[38;5;124mSK_ID_PREV\u001B[39m\u001B[38;5;124m'\u001B[39m, how\u001B[38;5;241m=\u001B[39m\u001B[38;5;124m'\u001B[39m\u001B[38;5;124mleft\u001B[39m\u001B[38;5;124m'\u001B[39m)\\\n\u001B[0;32m      5\u001B[0m     \u001B[38;5;241m.\u001B[39mmerge(installments_payments, on\u001B[38;5;241m=\u001B[39m\u001B[38;5;124m'\u001B[39m\u001B[38;5;124mSK_ID_PREV\u001B[39m\u001B[38;5;124m'\u001B[39m, how\u001B[38;5;241m=\u001B[39m\u001B[38;5;124m'\u001B[39m\u001B[38;5;124mleft\u001B[39m\u001B[38;5;124m'\u001B[39m)\\\n\u001B[0;32m      6\u001B[0m     \u001B[38;5;241m.\u001B[39mmerge(pos_cash_balance, on\u001B[38;5;241m=\u001B[39m\u001B[38;5;124m'\u001B[39m\u001B[38;5;124mSK_ID_PREV\u001B[39m\u001B[38;5;124m'\u001B[39m, how\u001B[38;5;241m=\u001B[39m\u001B[38;5;124m'\u001B[39m\u001B[38;5;124mleft\u001B[39m\u001B[38;5;124m'\u001B[39m)\n\u001B[0;32m      8\u001B[0m merged_df\u001B[38;5;241m.\u001B[39mhead()\n",
      "File \u001B[1;32mD:\\Scoop\\apps\\mambaforge\\current\\envs\\hci-scorecard-model\\Lib\\site-packages\\pandas\\core\\frame.py:10819\u001B[0m, in \u001B[0;36mDataFrame.merge\u001B[1;34m(self, right, how, on, left_on, right_on, left_index, right_index, sort, suffixes, copy, indicator, validate)\u001B[0m\n\u001B[0;32m  10800\u001B[0m \u001B[38;5;129m@Substitution\u001B[39m(\u001B[38;5;124m\"\u001B[39m\u001B[38;5;124m\"\u001B[39m)\n\u001B[0;32m  10801\u001B[0m \u001B[38;5;129m@Appender\u001B[39m(_merge_doc, indents\u001B[38;5;241m=\u001B[39m\u001B[38;5;241m2\u001B[39m)\n\u001B[0;32m  10802\u001B[0m \u001B[38;5;28;01mdef\u001B[39;00m \u001B[38;5;21mmerge\u001B[39m(\n\u001B[1;32m   (...)\u001B[0m\n\u001B[0;32m  10815\u001B[0m     validate: MergeValidate \u001B[38;5;241m|\u001B[39m \u001B[38;5;28;01mNone\u001B[39;00m \u001B[38;5;241m=\u001B[39m \u001B[38;5;28;01mNone\u001B[39;00m,\n\u001B[0;32m  10816\u001B[0m ) \u001B[38;5;241m-\u001B[39m\u001B[38;5;241m>\u001B[39m DataFrame:\n\u001B[0;32m  10817\u001B[0m     \u001B[38;5;28;01mfrom\u001B[39;00m \u001B[38;5;21;01mpandas\u001B[39;00m\u001B[38;5;21;01m.\u001B[39;00m\u001B[38;5;21;01mcore\u001B[39;00m\u001B[38;5;21;01m.\u001B[39;00m\u001B[38;5;21;01mreshape\u001B[39;00m\u001B[38;5;21;01m.\u001B[39;00m\u001B[38;5;21;01mmerge\u001B[39;00m \u001B[38;5;28;01mimport\u001B[39;00m merge\n\u001B[1;32m> 10819\u001B[0m     \u001B[38;5;28;01mreturn\u001B[39;00m merge(\n\u001B[0;32m  10820\u001B[0m         \u001B[38;5;28mself\u001B[39m,\n\u001B[0;32m  10821\u001B[0m         right,\n\u001B[0;32m  10822\u001B[0m         how\u001B[38;5;241m=\u001B[39mhow,\n\u001B[0;32m  10823\u001B[0m         on\u001B[38;5;241m=\u001B[39mon,\n\u001B[0;32m  10824\u001B[0m         left_on\u001B[38;5;241m=\u001B[39mleft_on,\n\u001B[0;32m  10825\u001B[0m         right_on\u001B[38;5;241m=\u001B[39mright_on,\n\u001B[0;32m  10826\u001B[0m         left_index\u001B[38;5;241m=\u001B[39mleft_index,\n\u001B[0;32m  10827\u001B[0m         right_index\u001B[38;5;241m=\u001B[39mright_index,\n\u001B[0;32m  10828\u001B[0m         sort\u001B[38;5;241m=\u001B[39msort,\n\u001B[0;32m  10829\u001B[0m         suffixes\u001B[38;5;241m=\u001B[39msuffixes,\n\u001B[0;32m  10830\u001B[0m         copy\u001B[38;5;241m=\u001B[39mcopy,\n\u001B[0;32m  10831\u001B[0m         indicator\u001B[38;5;241m=\u001B[39mindicator,\n\u001B[0;32m  10832\u001B[0m         validate\u001B[38;5;241m=\u001B[39mvalidate,\n\u001B[0;32m  10833\u001B[0m     )\n",
      "File \u001B[1;32mD:\\Scoop\\apps\\mambaforge\\current\\envs\\hci-scorecard-model\\Lib\\site-packages\\pandas\\core\\reshape\\merge.py:184\u001B[0m, in \u001B[0;36mmerge\u001B[1;34m(left, right, how, on, left_on, right_on, left_index, right_index, sort, suffixes, copy, indicator, validate)\u001B[0m\n\u001B[0;32m    169\u001B[0m \u001B[38;5;28;01melse\u001B[39;00m:\n\u001B[0;32m    170\u001B[0m     op \u001B[38;5;241m=\u001B[39m _MergeOperation(\n\u001B[0;32m    171\u001B[0m         left_df,\n\u001B[0;32m    172\u001B[0m         right_df,\n\u001B[1;32m   (...)\u001B[0m\n\u001B[0;32m    182\u001B[0m         validate\u001B[38;5;241m=\u001B[39mvalidate,\n\u001B[0;32m    183\u001B[0m     )\n\u001B[1;32m--> 184\u001B[0m     \u001B[38;5;28;01mreturn\u001B[39;00m op\u001B[38;5;241m.\u001B[39mget_result(copy\u001B[38;5;241m=\u001B[39mcopy)\n",
      "File \u001B[1;32mD:\\Scoop\\apps\\mambaforge\\current\\envs\\hci-scorecard-model\\Lib\\site-packages\\pandas\\core\\reshape\\merge.py:888\u001B[0m, in \u001B[0;36m_MergeOperation.get_result\u001B[1;34m(self, copy)\u001B[0m\n\u001B[0;32m    884\u001B[0m     \u001B[38;5;28mself\u001B[39m\u001B[38;5;241m.\u001B[39mleft, \u001B[38;5;28mself\u001B[39m\u001B[38;5;241m.\u001B[39mright \u001B[38;5;241m=\u001B[39m \u001B[38;5;28mself\u001B[39m\u001B[38;5;241m.\u001B[39m_indicator_pre_merge(\u001B[38;5;28mself\u001B[39m\u001B[38;5;241m.\u001B[39mleft, \u001B[38;5;28mself\u001B[39m\u001B[38;5;241m.\u001B[39mright)\n\u001B[0;32m    886\u001B[0m join_index, left_indexer, right_indexer \u001B[38;5;241m=\u001B[39m \u001B[38;5;28mself\u001B[39m\u001B[38;5;241m.\u001B[39m_get_join_info()\n\u001B[1;32m--> 888\u001B[0m result \u001B[38;5;241m=\u001B[39m \u001B[38;5;28mself\u001B[39m\u001B[38;5;241m.\u001B[39m_reindex_and_concat(\n\u001B[0;32m    889\u001B[0m     join_index, left_indexer, right_indexer, copy\u001B[38;5;241m=\u001B[39mcopy\n\u001B[0;32m    890\u001B[0m )\n\u001B[0;32m    891\u001B[0m result \u001B[38;5;241m=\u001B[39m result\u001B[38;5;241m.\u001B[39m__finalize__(\u001B[38;5;28mself\u001B[39m, method\u001B[38;5;241m=\u001B[39m\u001B[38;5;28mself\u001B[39m\u001B[38;5;241m.\u001B[39m_merge_type)\n\u001B[0;32m    893\u001B[0m \u001B[38;5;28;01mif\u001B[39;00m \u001B[38;5;28mself\u001B[39m\u001B[38;5;241m.\u001B[39mindicator:\n",
      "File \u001B[1;32mD:\\Scoop\\apps\\mambaforge\\current\\envs\\hci-scorecard-model\\Lib\\site-packages\\pandas\\core\\reshape\\merge.py:879\u001B[0m, in \u001B[0;36m_MergeOperation._reindex_and_concat\u001B[1;34m(self, join_index, left_indexer, right_indexer, copy)\u001B[0m\n\u001B[0;32m    877\u001B[0m left\u001B[38;5;241m.\u001B[39mcolumns \u001B[38;5;241m=\u001B[39m llabels\n\u001B[0;32m    878\u001B[0m right\u001B[38;5;241m.\u001B[39mcolumns \u001B[38;5;241m=\u001B[39m rlabels\n\u001B[1;32m--> 879\u001B[0m result \u001B[38;5;241m=\u001B[39m concat([left, right], axis\u001B[38;5;241m=\u001B[39m\u001B[38;5;241m1\u001B[39m, copy\u001B[38;5;241m=\u001B[39mcopy)\n\u001B[0;32m    880\u001B[0m \u001B[38;5;28;01mreturn\u001B[39;00m result\n",
      "File \u001B[1;32mD:\\Scoop\\apps\\mambaforge\\current\\envs\\hci-scorecard-model\\Lib\\site-packages\\pandas\\core\\reshape\\concat.py:395\u001B[0m, in \u001B[0;36mconcat\u001B[1;34m(objs, axis, join, ignore_index, keys, levels, names, verify_integrity, sort, copy)\u001B[0m\n\u001B[0;32m    380\u001B[0m     copy \u001B[38;5;241m=\u001B[39m \u001B[38;5;28;01mFalse\u001B[39;00m\n\u001B[0;32m    382\u001B[0m op \u001B[38;5;241m=\u001B[39m _Concatenator(\n\u001B[0;32m    383\u001B[0m     objs,\n\u001B[0;32m    384\u001B[0m     axis\u001B[38;5;241m=\u001B[39maxis,\n\u001B[1;32m   (...)\u001B[0m\n\u001B[0;32m    392\u001B[0m     sort\u001B[38;5;241m=\u001B[39msort,\n\u001B[0;32m    393\u001B[0m )\n\u001B[1;32m--> 395\u001B[0m \u001B[38;5;28;01mreturn\u001B[39;00m op\u001B[38;5;241m.\u001B[39mget_result()\n",
      "File \u001B[1;32mD:\\Scoop\\apps\\mambaforge\\current\\envs\\hci-scorecard-model\\Lib\\site-packages\\pandas\\core\\reshape\\concat.py:684\u001B[0m, in \u001B[0;36m_Concatenator.get_result\u001B[1;34m(self)\u001B[0m\n\u001B[0;32m    680\u001B[0m             indexers[ax] \u001B[38;5;241m=\u001B[39m obj_labels\u001B[38;5;241m.\u001B[39mget_indexer(new_labels)\n\u001B[0;32m    682\u001B[0m     mgrs_indexers\u001B[38;5;241m.\u001B[39mappend((obj\u001B[38;5;241m.\u001B[39m_mgr, indexers))\n\u001B[1;32m--> 684\u001B[0m new_data \u001B[38;5;241m=\u001B[39m concatenate_managers(\n\u001B[0;32m    685\u001B[0m     mgrs_indexers, \u001B[38;5;28mself\u001B[39m\u001B[38;5;241m.\u001B[39mnew_axes, concat_axis\u001B[38;5;241m=\u001B[39m\u001B[38;5;28mself\u001B[39m\u001B[38;5;241m.\u001B[39mbm_axis, copy\u001B[38;5;241m=\u001B[39m\u001B[38;5;28mself\u001B[39m\u001B[38;5;241m.\u001B[39mcopy\n\u001B[0;32m    686\u001B[0m )\n\u001B[0;32m    687\u001B[0m \u001B[38;5;28;01mif\u001B[39;00m \u001B[38;5;129;01mnot\u001B[39;00m \u001B[38;5;28mself\u001B[39m\u001B[38;5;241m.\u001B[39mcopy \u001B[38;5;129;01mand\u001B[39;00m \u001B[38;5;129;01mnot\u001B[39;00m using_copy_on_write():\n\u001B[0;32m    688\u001B[0m     new_data\u001B[38;5;241m.\u001B[39m_consolidate_inplace()\n",
      "File \u001B[1;32mD:\\Scoop\\apps\\mambaforge\\current\\envs\\hci-scorecard-model\\Lib\\site-packages\\pandas\\core\\internals\\concat.py:131\u001B[0m, in \u001B[0;36mconcatenate_managers\u001B[1;34m(mgrs_indexers, axes, concat_axis, copy)\u001B[0m\n\u001B[0;32m    124\u001B[0m \u001B[38;5;66;03m# Assertions disabled for performance\u001B[39;00m\n\u001B[0;32m    125\u001B[0m \u001B[38;5;66;03m# for tup in mgrs_indexers:\u001B[39;00m\n\u001B[0;32m    126\u001B[0m \u001B[38;5;66;03m#    # caller is responsible for ensuring this\u001B[39;00m\n\u001B[0;32m    127\u001B[0m \u001B[38;5;66;03m#    indexers = tup[1]\u001B[39;00m\n\u001B[0;32m    128\u001B[0m \u001B[38;5;66;03m#    assert concat_axis not in indexers\u001B[39;00m\n\u001B[0;32m    130\u001B[0m \u001B[38;5;28;01mif\u001B[39;00m concat_axis \u001B[38;5;241m==\u001B[39m \u001B[38;5;241m0\u001B[39m:\n\u001B[1;32m--> 131\u001B[0m     mgrs \u001B[38;5;241m=\u001B[39m _maybe_reindex_columns_na_proxy(axes, mgrs_indexers, needs_copy)\n\u001B[0;32m    132\u001B[0m     \u001B[38;5;28;01mreturn\u001B[39;00m mgrs[\u001B[38;5;241m0\u001B[39m]\u001B[38;5;241m.\u001B[39mconcat_horizontal(mgrs, axes)\n\u001B[0;32m    134\u001B[0m \u001B[38;5;28;01mif\u001B[39;00m \u001B[38;5;28mlen\u001B[39m(mgrs_indexers) \u001B[38;5;241m>\u001B[39m \u001B[38;5;241m0\u001B[39m \u001B[38;5;129;01mand\u001B[39;00m mgrs_indexers[\u001B[38;5;241m0\u001B[39m][\u001B[38;5;241m0\u001B[39m]\u001B[38;5;241m.\u001B[39mnblocks \u001B[38;5;241m>\u001B[39m \u001B[38;5;241m0\u001B[39m:\n",
      "File \u001B[1;32mD:\\Scoop\\apps\\mambaforge\\current\\envs\\hci-scorecard-model\\Lib\\site-packages\\pandas\\core\\internals\\concat.py:230\u001B[0m, in \u001B[0;36m_maybe_reindex_columns_na_proxy\u001B[1;34m(axes, mgrs_indexers, needs_copy)\u001B[0m\n\u001B[0;32m    220\u001B[0m         mgr \u001B[38;5;241m=\u001B[39m mgr\u001B[38;5;241m.\u001B[39mreindex_indexer(\n\u001B[0;32m    221\u001B[0m             axes[i],\n\u001B[0;32m    222\u001B[0m             indexers[i],\n\u001B[1;32m   (...)\u001B[0m\n\u001B[0;32m    227\u001B[0m             use_na_proxy\u001B[38;5;241m=\u001B[39m\u001B[38;5;28;01mTrue\u001B[39;00m,  \u001B[38;5;66;03m# only relevant for i==0\u001B[39;00m\n\u001B[0;32m    228\u001B[0m         )\n\u001B[0;32m    229\u001B[0m     \u001B[38;5;28;01mif\u001B[39;00m needs_copy \u001B[38;5;129;01mand\u001B[39;00m \u001B[38;5;129;01mnot\u001B[39;00m indexers:\n\u001B[1;32m--> 230\u001B[0m         mgr \u001B[38;5;241m=\u001B[39m mgr\u001B[38;5;241m.\u001B[39mcopy()\n\u001B[0;32m    232\u001B[0m     new_mgrs\u001B[38;5;241m.\u001B[39mappend(mgr)\n\u001B[0;32m    233\u001B[0m \u001B[38;5;28;01mreturn\u001B[39;00m new_mgrs\n",
      "File \u001B[1;32mD:\\Scoop\\apps\\mambaforge\\current\\envs\\hci-scorecard-model\\Lib\\site-packages\\pandas\\core\\internals\\managers.py:593\u001B[0m, in \u001B[0;36mBaseBlockManager.copy\u001B[1;34m(self, deep)\u001B[0m\n\u001B[0;32m    590\u001B[0m     \u001B[38;5;28;01melse\u001B[39;00m:\n\u001B[0;32m    591\u001B[0m         new_axes \u001B[38;5;241m=\u001B[39m \u001B[38;5;28mlist\u001B[39m(\u001B[38;5;28mself\u001B[39m\u001B[38;5;241m.\u001B[39maxes)\n\u001B[1;32m--> 593\u001B[0m res \u001B[38;5;241m=\u001B[39m \u001B[38;5;28mself\u001B[39m\u001B[38;5;241m.\u001B[39mapply(\u001B[38;5;124m\"\u001B[39m\u001B[38;5;124mcopy\u001B[39m\u001B[38;5;124m\"\u001B[39m, deep\u001B[38;5;241m=\u001B[39mdeep)\n\u001B[0;32m    594\u001B[0m res\u001B[38;5;241m.\u001B[39maxes \u001B[38;5;241m=\u001B[39m new_axes\n\u001B[0;32m    596\u001B[0m \u001B[38;5;28;01mif\u001B[39;00m \u001B[38;5;28mself\u001B[39m\u001B[38;5;241m.\u001B[39mndim \u001B[38;5;241m>\u001B[39m \u001B[38;5;241m1\u001B[39m:\n\u001B[0;32m    597\u001B[0m     \u001B[38;5;66;03m# Avoid needing to re-compute these\u001B[39;00m\n",
      "File \u001B[1;32mD:\\Scoop\\apps\\mambaforge\\current\\envs\\hci-scorecard-model\\Lib\\site-packages\\pandas\\core\\internals\\managers.py:363\u001B[0m, in \u001B[0;36mBaseBlockManager.apply\u001B[1;34m(self, f, align_keys, **kwargs)\u001B[0m\n\u001B[0;32m    361\u001B[0m         applied \u001B[38;5;241m=\u001B[39m b\u001B[38;5;241m.\u001B[39mapply(f, \u001B[38;5;241m*\u001B[39m\u001B[38;5;241m*\u001B[39mkwargs)\n\u001B[0;32m    362\u001B[0m     \u001B[38;5;28;01melse\u001B[39;00m:\n\u001B[1;32m--> 363\u001B[0m         applied \u001B[38;5;241m=\u001B[39m \u001B[38;5;28mgetattr\u001B[39m(b, f)(\u001B[38;5;241m*\u001B[39m\u001B[38;5;241m*\u001B[39mkwargs)\n\u001B[0;32m    364\u001B[0m     result_blocks \u001B[38;5;241m=\u001B[39m extend_blocks(applied, result_blocks)\n\u001B[0;32m    366\u001B[0m out \u001B[38;5;241m=\u001B[39m \u001B[38;5;28mtype\u001B[39m(\u001B[38;5;28mself\u001B[39m)\u001B[38;5;241m.\u001B[39mfrom_blocks(result_blocks, \u001B[38;5;28mself\u001B[39m\u001B[38;5;241m.\u001B[39maxes)\n",
      "File \u001B[1;32mD:\\Scoop\\apps\\mambaforge\\current\\envs\\hci-scorecard-model\\Lib\\site-packages\\pandas\\core\\internals\\blocks.py:796\u001B[0m, in \u001B[0;36mBlock.copy\u001B[1;34m(self, deep)\u001B[0m\n\u001B[0;32m    794\u001B[0m refs: BlockValuesRefs \u001B[38;5;241m|\u001B[39m \u001B[38;5;28;01mNone\u001B[39;00m\n\u001B[0;32m    795\u001B[0m \u001B[38;5;28;01mif\u001B[39;00m deep:\n\u001B[1;32m--> 796\u001B[0m     values \u001B[38;5;241m=\u001B[39m values\u001B[38;5;241m.\u001B[39mcopy()\n\u001B[0;32m    797\u001B[0m     refs \u001B[38;5;241m=\u001B[39m \u001B[38;5;28;01mNone\u001B[39;00m\n\u001B[0;32m    798\u001B[0m \u001B[38;5;28;01melse\u001B[39;00m:\n",
      "\u001B[1;31mMemoryError\u001B[0m: Unable to allocate 1.87 GiB for an array with shape (16, 15687442) and data type object"
     ]
    }
   ],
   "execution_count": 20
  },
  {
   "metadata": {},
   "cell_type": "code",
   "outputs": [],
   "execution_count": null,
   "source": "",
   "id": "3531f43889dbb28c"
  }
 ],
 "metadata": {
  "kernelspec": {
   "display_name": "Python 3",
   "language": "python",
   "name": "python3"
  },
  "language_info": {
   "codemirror_mode": {
    "name": "ipython",
    "version": 2
   },
   "file_extension": ".py",
   "mimetype": "text/x-python",
   "name": "python",
   "nbconvert_exporter": "python",
   "pygments_lexer": "ipython2",
   "version": "2.7.6"
  }
 },
 "nbformat": 4,
 "nbformat_minor": 5
}
