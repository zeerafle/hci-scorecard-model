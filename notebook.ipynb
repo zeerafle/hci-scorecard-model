{
 "cells": [
  {
   "cell_type": "markdown",
   "id": "39acdb17c28e8c21",
   "metadata": {},
   "source": [
    "# Home Credit Scorecard Model \n",
    "  \n",
    "\n",
    "## Introduction\n",
    "\n",
    "Notebook untuk pemodelan skor kredit Home Credit Indonesia dalam Data Scientist Project-Based Internship with Rakamin.\n",
    "\n",
    "Diberikan 7 dataset yang akan digunakan dalam pemodelan ini:\n",
    "1. __application__\n",
    "    \n",
    "   Dataset utama yang berisi informasi pengajuan kredit.\n",
    "   - 1 - Nasabah yang mengalami kesulitan pembayaran: misal mengalami keterlambatan pembayaran lebih dari X hari untuk setidaknya satu dari Y angsuran (installment) pertama pinjaman dalam sampel\n",
    "   - 0 - semua kasus lainnya\n",
    "2. __bureau__\n",
    "    \n",
    "   Dataset yang berisi informasi kredit yang diambil oleh pelanggan di lembaga keuangan lain.\n",
    "3. __bureau_balance__\n",
    "\n",
    "    Dataset yang berisi informasi pembayaran kredit di lembaga keuangan lain. \n",
    "4. __credit_card_balance__\n",
    "\n",
    "    Dataset yang berisi saldo bulanan dari kartu kredit yang dimiliki oleh pelanggan dengan Home Credit.\n",
    "5. __installments_payments__\n",
    "\n",
    "    Dataset yang berisi riwayat pembayaran cicilan kredit yang diberikan oleh Home Credit. \n",
    "6. __pos_cash_balance__\n",
    "\n",
    "    Dataset yang berisi saldo bulanan dari kredit POS dan kredit tunai yang dimiliki oleh pelanggan dengan Home Credit.\n",
    "7. __previous_application__\n",
    "\n",
    "    Dataset yang berisi riwayat pengajuan kredit oleh pelanggan dengan Home Credit.\n",
    "\n",
    "## Objective\n",
    "\n",
    "Tujuan dari notebook ini adalah membangun model skor kredit menggunakan data yang diberikan. Model ini akan digunakan untuk memprediksi apakah pengajuan kredit akan disetujui atau tidak.\n",
    "\n",
    "Data utama yang digunakan adalah application_train.csv. \n"
   ]
  },
  {
   "cell_type": "code",
   "id": "initial_id",
   "metadata": {
    "collapsed": true
   },
   "source": [
    "from sklearn.metrics import mean_squared_error, mean_absolute_error, r2_score\n",
    "from sklearn.model_selection import train_test_split\n",
    "\n",
    "import pandas as pd\n",
    "import sqlite3\n",
    "import seaborn as sns\n",
    "import matplotlib.pyplot as plt\n",
    "\n",
    "plt.style.use('ggplot')"
   ],
   "outputs": [],
   "execution_count": null
  },
  {
   "cell_type": "code",
   "id": "deefb27a0db9e218",
   "metadata": {},
   "source": [
    "conn = sqlite3.connect('hci_application.db')"
   ],
   "outputs": [],
   "execution_count": null
  },
  {
   "cell_type": "markdown",
   "id": "80ebd728d8e5f7c7",
   "metadata": {},
   "source": [
    "# Exploratory Data Analysis"
   ]
  },
  {
   "cell_type": "markdown",
   "id": "5afc99a1",
   "metadata": {},
   "source": [
    "## Initial EDA"
   ]
  },
  {
   "cell_type": "code",
   "id": "3d493bf23161a470",
   "metadata": {},
   "source": [
    "def fetch_random_n_rows(n, table_name, primary_key) -> pd.DataFrame:\n",
    "    return pd.read_sql(f\"\"\"SELECT *\n",
    "                       FROM {table_name}\n",
    "                       WHERE {primary_key}\n",
    "                       IN (\n",
    "                        SELECT {primary_key}\n",
    "                        FROM {table_name}\n",
    "                        ORDER BY RANDOM()\n",
    "                        LIMIT {n}\n",
    "                       )\"\"\", conn)\n"
   ],
   "outputs": [],
   "execution_count": null
  },
  {
   "cell_type": "code",
   "id": "1fbf95bd42ba0312",
   "metadata": {},
   "source": [
    "df = pd.read_sql('SELECT * FROM application', conn)\n",
    "print(df.shape)\n",
    "df.head()"
   ],
   "outputs": [],
   "execution_count": null
  },
  {
   "cell_type": "code",
   "id": "9a29706292e08fb0",
   "metadata": {},
   "source": [
    "df.info(verbose=True)"
   ],
   "outputs": [],
   "execution_count": null
  },
  {
   "cell_type": "code",
   "id": "fdc3d23ab7eb4842",
   "metadata": {},
   "source": [
    "df.describe()"
   ],
   "outputs": [],
   "execution_count": null
  },
  {
   "cell_type": "code",
   "id": "9eda51269bd4151a",
   "metadata": {},
   "source": [
    "# get a random sample of table for only 100 rows\n",
    "prev_df = fetch_random_n_rows(100, 'previous_application', 'SK_ID_PREV')\n",
    "print(prev_df.shape)\n",
    "prev_df.head()"
   ],
   "outputs": [],
   "execution_count": null
  },
  {
   "cell_type": "code",
   "id": "a4d4c27ef217fa69",
   "metadata": {},
   "source": [
    "prev_df.info(verbose=True)"
   ],
   "outputs": [],
   "execution_count": null
  },
  {
   "cell_type": "code",
   "id": "a9ba19add798310c",
   "metadata": {},
   "source": [
    "bureau_df = fetch_random_n_rows(100, 'bureau', 'SK_ID_BUREAU')\n",
    "print(bureau_df.shape)\n",
    "bureau_df.head()"
   ],
   "outputs": [],
   "execution_count": null
  },
  {
   "cell_type": "code",
   "id": "9b21e7f85df2aac3",
   "metadata": {},
   "source": [
    "bureau_df.info(verbose=True)"
   ],
   "outputs": [],
   "execution_count": null
  },
  {
   "cell_type": "code",
   "id": "cf2189e511527041",
   "metadata": {},
   "source": [
    "bureau_df.describe()"
   ],
   "outputs": [],
   "execution_count": null
  },
  {
   "cell_type": "markdown",
   "id": "d1055219",
   "metadata": {},
   "source": [
    "## Data Cleaning"
   ]
  },
  {
   "cell_type": "markdown",
   "id": "91004601",
   "metadata": {},
   "source": [
    "### Application Dataset\n",
    "\n",
    "Dataset utama untuk setiap aplikasi pinjaman yang disetujui atau ditolak ditunjukkan dengan kolom TARGET.\n",
    "\n",
    "- 1 - Nasabah yang mengalami kesulitan pembayaran: misal mengalami keterlambatan pembayaran lebih dari X hari untuk setidaknya satu dari Y angsuran (installment) pertama pinjaman dalam sampel\n",
    "- 0 - semua kasus lainnya"
   ]
  },
  {
   "cell_type": "code",
   "id": "3531f43889dbb28c",
   "metadata": {},
   "source": [
    "missing_data = df.isnull()\n",
    "missing_data.head(5)"
   ],
   "outputs": [],
   "execution_count": null
  },
  {
   "cell_type": "code",
   "id": "a59db340",
   "metadata": {},
   "source": [
    "for column in missing_data.columns.values.tolist():\n",
    "    if missing_data[column].value_counts().get(True):\n",
    "        print(missing_data[column].value_counts(), '\\n')"
   ],
   "outputs": [],
   "execution_count": null
  },
  {
   "cell_type": "code",
   "id": "5b9129c9",
   "metadata": {},
   "source": [
    "excluded_column = ['SK_ID_CURR', 'TARGET', 'AMT_ANNUITY', 'COMMONAREA_AVG']"
   ],
   "outputs": [],
   "execution_count": null
  },
  {
   "cell_type": "markdown",
   "id": "ced2bf45",
   "metadata": {},
   "source": [
    "#### Drop Column\n",
    "\n",
    "Too much missing value\n",
    "\n",
    "- OWN_CAR_AGE\n",
    "- EXT_SOURCE_1\n",
    "- APARTMENTS_AVG\n",
    "- BASEMENTAREA_AVG\n",
    "- YEARS_BEGINEXPLUATATION_AVG\n",
    "- YEARS_BUILD_AVG\n",
    "- ELEVATORS_AVG\n",
    "- ENTRANCES_AVG\n",
    "- FLOORSMAX_AVG\n",
    "- LIVINGAREA_AVG\n",
    "- "
   ]
  },
  {
   "cell_type": "code",
   "id": "4aabcf9c",
   "metadata": {},
   "source": [
    "def has_too_many_missing_values(column: pd.Series, threshold=0.45):\n",
    "    # A column is considered to have too many missing values if more than a certain threshold (e.g., 40%, almost half of it) of its values are missing\n",
    "    return column.isnull().sum() / df.shape[0] > threshold\n",
    "\n",
    "\n",
    "# drop row if it has too many missing values\n",
    "df = df.drop(columns=[column for column in df.columns if\n",
    "                      has_too_many_missing_values(df[column]) and column not in excluded_column])\n",
    "df.head()"
   ],
   "outputs": [],
   "execution_count": null
  },
  {
   "cell_type": "markdown",
   "metadata": {},
   "source": [
    "#### Custom Impute\n",
    "\n",
    "- AMT_ANNUITY\n",
    "- COMMONAREA_AVG -> fill na to 0"
   ],
   "id": "b4763737153311b4"
  },
  {
   "metadata": {},
   "cell_type": "markdown",
   "source": "Untuk AMT_ANNUITY dapat diimpute dengan nilai rata-rata dari AMT_ANNUITY pada dataset previous_application.",
   "id": "d0e60e3ea5448795"
  },
  {
   "cell_type": "code",
   "id": "60b54d49",
   "metadata": {},
   "source": [
    "df[df['AMT_ANNUITY'].isnull()]"
   ],
   "outputs": [],
   "execution_count": null
  },
  {
   "cell_type": "code",
   "id": "a3e96608",
   "metadata": {},
   "source": [
    "prev_df_amt_annuity = pd.read_sql('SELECT SK_ID_CURR, AMT_ANNUITY FROM previous_application', conn)\n",
    "prev_df_amt_annuity.head()"
   ],
   "outputs": [],
   "execution_count": null
  },
  {
   "cell_type": "code",
   "id": "74fb9e95",
   "metadata": {},
   "source": [
    "prev_df_amt_annuity_null = prev_df_amt_annuity.merge(df[df['AMT_ANNUITY'].isnull()], how='right', on='SK_ID_CURR')\n",
    "prev_df_amt_annuity_null.head()"
   ],
   "outputs": [],
   "execution_count": null
  },
  {
   "cell_type": "code",
   "id": "a29ae652",
   "metadata": {},
   "source": [
    "mean_amt_annuity = prev_df_amt_annuity_null[['SK_ID_CURR', 'AMT_ANNUITY_x']].groupby('SK_ID_CURR').mean()\n",
    "for key, value in mean_amt_annuity.AMT_ANNUITY_x.to_dict().items():\n",
    "    df.loc[df['SK_ID_CURR'] == key, 'AMT_ANNUITY'] = value"
   ],
   "outputs": [],
   "execution_count": null
  },
  {
   "cell_type": "code",
   "id": "8f47c4ae",
   "metadata": {},
   "source": [
    "df.AMT_ANNUITY.isnull().sum()"
   ],
   "outputs": [],
   "execution_count": null
  },
  {
   "metadata": {},
   "cell_type": "markdown",
   "source": "Untuk COMMONAREA_AVG dapat diimpute dengan nilai 0 karena merupakan rata-rata luas area bersama dari apartemen klien dan nilai nya sangat skewed ke 0.",
   "id": "7484ee2a69fb1d56"
  },
  {
   "metadata": {},
   "cell_type": "code",
   "source": "df.COMMONAREA_AVG.isnull().sum()",
   "id": "16a3feb28ab39c69",
   "outputs": [],
   "execution_count": null
  },
  {
   "metadata": {},
   "cell_type": "code",
   "source": "df.COMMONAREA_AVG.plot(kind='hist', bins=50, figsize=(10, 5))",
   "id": "d05aae9ab5124d6",
   "outputs": [],
   "execution_count": null
  },
  {
   "metadata": {},
   "cell_type": "code",
   "source": "df.COMMONAREA_AVG.fillna(0, inplace=True)",
   "id": "d45a8755a79f6b4c",
   "outputs": [],
   "execution_count": null
  },
  {
   "cell_type": "markdown",
   "id": "eecffa6f",
   "metadata": {},
   "source": [
    "#### Median Impute\n",
    "\n",
    "Jika tipe data numerik dan kontinu. Median dipilih karena kebanyakan kolom memiliki distribusi yang skewed. Contoh:\n",
    "\n",
    "- AMT_GOODS_PRICE\n",
    "- EXT_SOURCE_2\n",
    "- EXT_SOURCE_2\n",
    "- FLOORSMIN_AVG\n",
    "- LANDAREA_AVG\n",
    "- LIVINGAPARTMENTS_AVG\n",
    "- ...\n"
   ]
  },
  {
   "cell_type": "code",
   "id": "1931e517",
   "metadata": {},
   "source": [
    "df['AMT_GOODS_PRICE'].plot(kind='hist', bins=50, figsize=(10, 5))"
   ],
   "outputs": [],
   "execution_count": null
  },
  {
   "cell_type": "code",
   "id": "51b58497",
   "metadata": {},
   "source": [
    "df[['OWN_CAR_AGE', 'TARGET']].corr()"
   ],
   "outputs": [],
   "execution_count": null
  },
  {
   "cell_type": "code",
   "id": "9ece82d1",
   "metadata": {},
   "source": [
    "df[['EXT_SOURCE_2', 'TARGET']].corr()"
   ],
   "outputs": [],
   "execution_count": null
  },
  {
   "cell_type": "code",
   "id": "74f4a8e0",
   "metadata": {},
   "source": [
    "df[['EXT_SOURCE_3', 'TARGET']].corr()"
   ],
   "outputs": [],
   "execution_count": null
  },
  {
   "cell_type": "code",
   "id": "56b77288",
   "metadata": {},
   "source": [
    "df[['FLOORSMIN_AVG', 'TARGET']].corr()"
   ],
   "outputs": [],
   "execution_count": null
  },
  {
   "cell_type": "code",
   "id": "56b2b012",
   "metadata": {},
   "source": [
    "df['FLOORSMIN_AVG'].plot(kind='hist', bins=50, figsize=(10, 5))"
   ],
   "outputs": [],
   "execution_count": null
  },
  {
   "cell_type": "code",
   "id": "4383cc38",
   "metadata": {},
   "source": [
    "df.LANDAREA_AVG.plot(kind='hist', bins=50, figsize=(10, 5))"
   ],
   "outputs": [],
   "execution_count": null
  },
  {
   "cell_type": "code",
   "id": "ffd1146c",
   "metadata": {},
   "source": [
    "def fill_na_with_median(column: pd.Series):\n",
    "    return column.fillna(column.median())\n",
    "\n",
    "\n",
    "def is_numeric_and_continuous(column: pd.Series):\n",
    "    return column.dtype.kind in 'fi' and column.nunique() / column.shape[0] > 0.01\n",
    "\n",
    "\n",
    "df = df.apply(lambda x: fill_na_with_median(x) if is_numeric_and_continuous(x) and x.name not in excluded_column else x)\n",
    "df.head()"
   ],
   "outputs": [],
   "execution_count": null
  },
  {
   "cell_type": "markdown",
   "id": "bb5cc931",
   "metadata": {},
   "source": [
    "#### Mode Impute\n",
    "\n",
    "Untuk kolom kategorikal yang bertipe objek atau numerik. Contoh:\n",
    "\n",
    "- NAME_TYPE_SUITE\n",
    "- OCCUPATION_TYPE\n",
    "- CNT_FAM_MEMBERS\n",
    "- NONLIVINGAPARTMENTS_AVG\n",
    "- ..."
   ]
  },
  {
   "cell_type": "code",
   "id": "2ab0c7c1",
   "metadata": {},
   "source": [
    "df['NAME_TYPE_SUITE'].value_counts()"
   ],
   "outputs": [],
   "execution_count": null
  },
  {
   "cell_type": "code",
   "id": "e618dd9e",
   "metadata": {},
   "source": [
    "df['OCCUPATION_TYPE'].value_counts().plot(kind='bar', figsize=(10, 5))"
   ],
   "outputs": [],
   "execution_count": null
  },
  {
   "cell_type": "code",
   "id": "4fbad233",
   "metadata": {},
   "source": [
    "df['NONLIVINGAPARTMENTS_AVG'].plot(kind='hist', bins=50, figsize=(10, 5))"
   ],
   "outputs": [],
   "execution_count": null
  },
  {
   "cell_type": "code",
   "id": "50d143c8",
   "metadata": {},
   "source": [
    "def is_categorical(column: pd.Series):\n",
    "    return column.dtype.kind in 'O' and column.nunique() / column.shape[0] < 0.01\n",
    "\n",
    "\n",
    "def fill_na_with_mode(column: pd.Series):\n",
    "    return column.fillna(column.mode()[0])\n",
    "\n",
    "\n",
    "df = df.apply(lambda x: fill_na_with_mode(x) if is_categorical(x) and x.name not in excluded_column else x)\n",
    "df.head()"
   ],
   "outputs": [],
   "execution_count": null
  },
  {
   "metadata": {},
   "cell_type": "markdown",
   "source": [
    "#### Leftover Missing Values\n",
    "\n",
    "This means that the column has missing values that are not too many, and the column is not numeric and continuous. For these columns, we can impute the missing values with the median for numeric columns and the mode for categorical columns."
   ],
   "id": "58c88a7019ac162c"
  },
  {
   "metadata": {},
   "cell_type": "code",
   "source": "df.isnull().sum()",
   "id": "89e0d708a8b451a9",
   "outputs": [],
   "execution_count": null
  },
  {
   "metadata": {},
   "cell_type": "code",
   "source": "df.AMT_GOODS_PRICE.plot(kind='hist', bins=50, figsize=(10, 5))",
   "id": "1e50361295473054",
   "outputs": [],
   "execution_count": null
  },
  {
   "metadata": {},
   "cell_type": "code",
   "source": "df.AMT_GOODS_PRICE.fillna(df.AMT_GOODS_PRICE.median(), inplace=True)",
   "id": "9465708ee54b1f1",
   "outputs": [],
   "execution_count": null
  },
  {
   "metadata": {},
   "cell_type": "code",
   "source": "df.CNT_FAM_MEMBERS.plot(kind='hist', bins=50, figsize=(10, 5))",
   "id": "103b38019bdd422c",
   "outputs": [],
   "execution_count": null
  },
  {
   "metadata": {},
   "cell_type": "code",
   "source": "df.CNT_FAM_MEMBERS.fillna(df.CNT_FAM_MEMBERS.median(), inplace=True)",
   "id": "9bf69dcdb6733d59",
   "outputs": [],
   "execution_count": null
  },
  {
   "metadata": {},
   "cell_type": "code",
   "source": "df.EXT_SOURCE_3.plot(kind='hist', bins=50, figsize=(10, 5))",
   "id": "653a9116d5e374b6",
   "outputs": [],
   "execution_count": null
  },
  {
   "metadata": {},
   "cell_type": "code",
   "source": "df.EXT_SOURCE_3.fillna(df.EXT_SOURCE_3.median(), inplace=True)",
   "id": "84a397aaefd626c9",
   "outputs": [],
   "execution_count": null
  },
  {
   "metadata": {},
   "cell_type": "code",
   "source": "df.OBS_30_CNT_SOCIAL_CIRCLE.plot(kind='hist', bins=50, figsize=(10, 5))",
   "id": "56a4b253e307cc63",
   "outputs": [],
   "execution_count": null
  },
  {
   "metadata": {},
   "cell_type": "code",
   "source": "df.OBS_30_CNT_SOCIAL_CIRCLE.fillna(0, inplace=True)",
   "id": "bb5fa81d310688f7",
   "outputs": [],
   "execution_count": null
  },
  {
   "metadata": {},
   "cell_type": "code",
   "source": "df.DEF_30_CNT_SOCIAL_CIRCLE.plot(kind='hist', bins=50, figsize=(10, 5))",
   "id": "496708b3aec2e338",
   "outputs": [],
   "execution_count": null
  },
  {
   "metadata": {},
   "cell_type": "code",
   "source": "df.fillna({'DEF_30_CNT_SOCIAL_CIRCLE': 0, 'DEF_60_CNT_SOCIAL_CIRCLE': 0, 'OBS_60_CNT_SOCIAL_CIRCLE': 0}, inplace=True)",
   "id": "1473fe8a931eee72",
   "outputs": [],
   "execution_count": null
  },
  {
   "metadata": {},
   "cell_type": "code",
   "source": [
    "req_bureau_col = [x for x in df.columns if x.startswith('AMT_REQ')]\n",
    "\n",
    "# visualize its distribution\n",
    "fig, axes = plt.subplots(3, 2, figsize=(15, 15))\n",
    "axes = axes.flatten()\n",
    "\n",
    "for i, col in enumerate(req_bureau_col):\n",
    "    df[col].plot(kind='hist', bins=50, ax=axes[i])\n",
    "    axes[i].set_title(col)\n",
    "    \n",
    "plt.tight_layout()\n",
    "plt.show()"
   ],
   "id": "68489e8f84135ae0",
   "outputs": [],
   "execution_count": null
  },
  {
   "metadata": {},
   "cell_type": "code",
   "source": [
    "# most of the columns can be filled with 0, except for AMT_REQ_CREDIT_BUREAU_YEAR.\n",
    "# AMT_REQ_CREDIT_BUREAU_YEAR will be filled with median\n",
    "df.fillna({col: 0 for col in req_bureau_col[:-1]}, inplace=True)\n",
    "df.fillna({'AMT_REQ_CREDIT_BUREAU_YEAR': df['AMT_REQ_CREDIT_BUREAU_YEAR'].median()}, inplace=True)"
   ],
   "id": "8fb06f0b1a236b37",
   "outputs": [],
   "execution_count": null
  },
  {
   "metadata": {},
   "cell_type": "code",
   "source": "df.isnull().sum()",
   "id": "169f56f6ce4e20ab",
   "outputs": [],
   "execution_count": null
  },
  {
   "cell_type": "markdown",
   "id": "99f5d2f6",
   "metadata": {},
   "source": [
    "### Bureau Dataset\n",
    "\n",
    "For bureau dataset, we can immediately join it with bureau_balance dataset to get the latest status of each credit bureau.\n",
    " \n",
    "We will perform average, maximum, and count aggregation for MONTHS_BALANCE, and count aggregation for each STATUS code.\n",
    "\n",
    "But first lets check if the identifier in bureau_balance is also available in the bureau dataset."
   ]
  },
  {
   "metadata": {},
   "cell_type": "code",
   "source": [
    "bureau_balance_id = pd.read_sql('SELECT DISTINCT SK_ID_BUREAU FROM bureau_balance', conn)\n",
    "bureau_balance_id.head()"
   ],
   "id": "6ec068ab789fc648",
   "outputs": [],
   "execution_count": null
  },
  {
   "metadata": {},
   "cell_type": "code",
   "source": [
    "# check if the SK_ID_BUREAU in bureau_balance is also available in bureau\n",
    "bureau_id = pd.read_sql('SELECT DISTINCT SK_ID_BUREAU FROM bureau', conn)\n",
    "bureau_id.head()"
   ],
   "id": "9b26f0bd43ef4ffe",
   "outputs": [],
   "execution_count": null
  },
  {
   "metadata": {
    "ExecuteTime": {
     "end_time": "2024-05-30T01:51:44.465411Z",
     "start_time": "2024-05-30T01:51:44.352859Z"
    }
   },
   "cell_type": "code",
   "source": [
    "print('Number of unique SK_ID_BUREAU in bureau_balance:', bureau_balance_id.shape[0])\n",
    "print('Number of unique SK_ID_BUREAU in bureau:', bureau_id.shape[0])\n",
    "print('Number of unique SK_ID_BUREAU in bureau_balance that is also available in bureau:', bureau_balance_id.SK_ID_BUREAU.isin(bureau_id.SK_ID_BUREAU).sum())\n",
    "print('Percentage of SK_ID_BUREAU in bureau_balance that is also available in bureau:', bureau_balance_id.SK_ID_BUREAU.isin(bureau_id.SK_ID_BUREAU).sum() / bureau_id.shape[0])"
   ],
   "id": "984f55ece4148f0d",
   "outputs": [
    {
     "name": "stdout",
     "output_type": "stream",
     "text": [
      "Number of unique SK_ID_BUREAU in bureau_balance: 817395\n",
      "Number of unique SK_ID_BUREAU in bureau: 1716428\n",
      "Number of unique SK_ID_BUREAU in bureau_balance that is also available in bureau: 774354\n",
      "Percentage of SK_ID_BUREAU in bureau_balance that is also available in bureau: 0.4511427219784343\n"
     ]
    }
   ],
   "execution_count": 112
  },
  {
   "metadata": {},
   "cell_type": "code",
   "outputs": [],
   "execution_count": null,
   "source": "cur = conn.cursor()",
   "id": "c82d4cf97f0f6e95"
  },
  {
   "metadata": {},
   "cell_type": "code",
   "execution_count": null,
   "source": [
    "agg_query = \"\"\"\n",
    "    CREATE TEMPORARY VIEW bureau_balance_agg AS\n",
    "    SELECT\n",
    "        SK_ID_BUREAU,\n",
    "        AVG(MONTHS_BALANCE) AS MONTHS_BALANCE_mean,\n",
    "        MAX(MONTHS_BALANCE) AS MONTHS_BALANCE_max,\n",
    "        COUNT(MONTHS_BALANCE) AS MONTHS_BALANCE_count,\n",
    "        SUM(CASE WHEN STATUS = '0' THEN 1 ELSE 0 END) AS STATUS_0_count,\n",
    "        SUM(CASE WHEN STATUS = '1' THEN 1 ELSE 0 END) AS STATUS_1_count,\n",
    "        SUM(CASE WHEN STATUS = '2' THEN 1 ELSE 0 END) AS STATUS_2_count,\n",
    "        SUM(CASE WHEN STATUS = '3' THEN 1 ELSE 0 END) AS STATUS_3_count,\n",
    "        SUM(CASE WHEN STATUS = '4' THEN 1 ELSE 0 END) AS STATUS_4_count,\n",
    "        SUM(CASE WHEN STATUS = '5' THEN 1 ELSE 0 END) AS STATUS_5_count,\n",
    "        SUM(CASE WHEN STATUS = 'C' THEN 1 ELSE 0 END) AS STATUS_C_count,\n",
    "        SUM(CASE WHEN STATUS = 'X' THEN 1 ELSE 0 END) AS STATUS_X_count\n",
    "    FROM\n",
    "        bureau_balance\n",
    "    GROUP BY\n",
    "        SK_ID_BUREAU;\n",
    "\"\"\"\n",
    "\n",
    "cur.execute(agg_query)"
   ],
   "id": "c070dd4a",
   "outputs": []
  },
  {
   "metadata": {},
   "cell_type": "code",
   "execution_count": null,
   "source": [
    "join_query = \"\"\"\n",
    "    SELECT\n",
    "        b.*,\n",
    "        bb.MONTHS_BALANCE_mean,\n",
    "        bb.MONTHS_BALANCE_max,\n",
    "        bb.MONTHS_BALANCE_count,\n",
    "        bb.STATUS_0_count,\n",
    "        bb.STATUS_1_count,\n",
    "        bb.STATUS_2_count,\n",
    "        bb.STATUS_3_count,\n",
    "        bb.STATUS_4_count,\n",
    "        bb.STATUS_5_count,\n",
    "        bb.STATUS_C_count,\n",
    "        bb.STATUS_X_count\n",
    "    FROM\n",
    "        bureau b\n",
    "    LEFT JOIN\n",
    "        bureau_balance_agg bb\n",
    "    ON\n",
    "        b.SK_ID_BUREAU = bb.SK_ID_BUREAU\n",
    "    LIMIT\n",
    "        100;\n",
    "\"\"\"\n",
    "\n",
    "bureau_df = pd.read_sql(join_query, conn)\n",
    "bureau_df.head()"
   ],
   "id": "336159a4d4f213bf",
   "outputs": []
  },
  {
   "metadata": {
    "ExecuteTime": {
     "end_time": "2024-05-30T02:17:13.144956Z",
     "start_time": "2024-05-30T02:17:12.950162Z"
    }
   },
   "cell_type": "code",
   "source": "bureau_df.isna().sum()",
   "id": "224921840085e10d",
   "outputs": [
    {
     "data": {
      "text/plain": [
       "SK_ID_CURR                      0\n",
       "SK_ID_BUREAU                    0\n",
       "CREDIT_ACTIVE                   0\n",
       "CREDIT_CURRENCY                 0\n",
       "DAYS_CREDIT                     0\n",
       "CREDIT_DAY_OVERDUE              0\n",
       "DAYS_CREDIT_ENDDATE        105553\n",
       "DAYS_ENDDATE_FACT          633653\n",
       "AMT_CREDIT_MAX_OVERDUE    1124488\n",
       "CNT_CREDIT_PROLONG              0\n",
       "AMT_CREDIT_SUM                 13\n",
       "AMT_CREDIT_SUM_DEBT        257669\n",
       "AMT_CREDIT_SUM_LIMIT       591780\n",
       "AMT_CREDIT_SUM_OVERDUE          0\n",
       "CREDIT_TYPE                     0\n",
       "DAYS_CREDIT_UPDATE              0\n",
       "AMT_ANNUITY               1226791\n",
       "MONTHS_BALANCE_mean        942074\n",
       "MONTHS_BALANCE_max         942074\n",
       "MONTHS_BALANCE_count       942074\n",
       "STATUS_0_count             942074\n",
       "STATUS_1_count             942074\n",
       "STATUS_2_count             942074\n",
       "STATUS_3_count             942074\n",
       "STATUS_4_count             942074\n",
       "STATUS_5_count             942074\n",
       "STATUS_C_count             942074\n",
       "STATUS_X_count             942074\n",
       "dtype: int64"
      ]
     },
     "execution_count": 120,
     "metadata": {},
     "output_type": "execute_result"
    }
   ],
   "execution_count": 120
  },
  {
   "metadata": {
    "ExecuteTime": {
     "end_time": "2024-05-30T02:04:15.100600Z",
     "start_time": "2024-05-30T02:04:14.453626Z"
    }
   },
   "cell_type": "code",
   "source": "bureau_df",
   "id": "b0702db634615cd1",
   "outputs": [
    {
     "data": {
      "text/plain": [
       "         SK_ID_CURR  SK_ID_BUREAU CREDIT_ACTIVE CREDIT_CURRENCY  DAYS_CREDIT  \\\n",
       "0            215354       5714462        Closed      currency 1         -497   \n",
       "1            215354       5714463        Active      currency 1         -208   \n",
       "2            215354       5714464        Active      currency 1         -203   \n",
       "3            215354       5714465        Active      currency 1         -203   \n",
       "4            215354       5714466        Active      currency 1         -629   \n",
       "...             ...           ...           ...             ...          ...   \n",
       "1716423      259355       5057750        Active      currency 1          -44   \n",
       "1716424      100044       5057754        Closed      currency 1        -2648   \n",
       "1716425      100044       5057762        Closed      currency 1        -1809   \n",
       "1716426      246829       5057770        Closed      currency 1        -1878   \n",
       "1716427      246829       5057778        Closed      currency 1         -463   \n",
       "\n",
       "         CREDIT_DAY_OVERDUE  DAYS_CREDIT_ENDDATE  DAYS_ENDDATE_FACT  \\\n",
       "0                         0               -153.0             -153.0   \n",
       "1                         0               1075.0                NaN   \n",
       "2                         0                528.0                NaN   \n",
       "3                         0                  NaN                NaN   \n",
       "4                         0               1197.0                NaN   \n",
       "...                     ...                  ...                ...   \n",
       "1716423                   0                -30.0                NaN   \n",
       "1716424                   0              -2433.0            -2493.0   \n",
       "1716425                   0              -1628.0             -970.0   \n",
       "1716426                   0              -1513.0            -1513.0   \n",
       "1716427                   0                  NaN             -387.0   \n",
       "\n",
       "         AMT_CREDIT_MAX_OVERDUE  CNT_CREDIT_PROLONG  ...  MONTHS_BALANCE_max  \\\n",
       "0                           NaN                   0  ...                 NaN   \n",
       "1                           NaN                   0  ...                 NaN   \n",
       "2                           NaN                   0  ...                 NaN   \n",
       "3                           NaN                   0  ...                 NaN   \n",
       "4                       77674.5                   0  ...                 NaN   \n",
       "...                         ...                 ...  ...                 ...   \n",
       "1716423                     0.0                   0  ...                 NaN   \n",
       "1716424                  5476.5                   0  ...                 NaN   \n",
       "1716425                     NaN                   0  ...                 NaN   \n",
       "1716426                     NaN                   0  ...                 NaN   \n",
       "1716427                     NaN                   0  ...                 NaN   \n",
       "\n",
       "         MONTHS_BALANCE_count  STATUS_0_count  STATUS_1_count STATUS_2_count  \\\n",
       "0                         NaN             NaN             NaN            NaN   \n",
       "1                         NaN             NaN             NaN            NaN   \n",
       "2                         NaN             NaN             NaN            NaN   \n",
       "3                         NaN             NaN             NaN            NaN   \n",
       "4                         NaN             NaN             NaN            NaN   \n",
       "...                       ...             ...             ...            ...   \n",
       "1716423                   NaN             NaN             NaN            NaN   \n",
       "1716424                   NaN             NaN             NaN            NaN   \n",
       "1716425                   NaN             NaN             NaN            NaN   \n",
       "1716426                   NaN             NaN             NaN            NaN   \n",
       "1716427                   NaN             NaN             NaN            NaN   \n",
       "\n",
       "         STATUS_3_count  STATUS_4_count  STATUS_5_count  STATUS_C_count  \\\n",
       "0                   NaN             NaN             NaN             NaN   \n",
       "1                   NaN             NaN             NaN             NaN   \n",
       "2                   NaN             NaN             NaN             NaN   \n",
       "3                   NaN             NaN             NaN             NaN   \n",
       "4                   NaN             NaN             NaN             NaN   \n",
       "...                 ...             ...             ...             ...   \n",
       "1716423             NaN             NaN             NaN             NaN   \n",
       "1716424             NaN             NaN             NaN             NaN   \n",
       "1716425             NaN             NaN             NaN             NaN   \n",
       "1716426             NaN             NaN             NaN             NaN   \n",
       "1716427             NaN             NaN             NaN             NaN   \n",
       "\n",
       "         STATUS_X_count  \n",
       "0                   NaN  \n",
       "1                   NaN  \n",
       "2                   NaN  \n",
       "3                   NaN  \n",
       "4                   NaN  \n",
       "...                 ...  \n",
       "1716423             NaN  \n",
       "1716424             NaN  \n",
       "1716425             NaN  \n",
       "1716426             NaN  \n",
       "1716427             NaN  \n",
       "\n",
       "[1716428 rows x 28 columns]"
      ],
      "text/html": [
       "<div>\n",
       "<style scoped>\n",
       "    .dataframe tbody tr th:only-of-type {\n",
       "        vertical-align: middle;\n",
       "    }\n",
       "\n",
       "    .dataframe tbody tr th {\n",
       "        vertical-align: top;\n",
       "    }\n",
       "\n",
       "    .dataframe thead th {\n",
       "        text-align: right;\n",
       "    }\n",
       "</style>\n",
       "<table border=\"1\" class=\"dataframe\">\n",
       "  <thead>\n",
       "    <tr style=\"text-align: right;\">\n",
       "      <th></th>\n",
       "      <th>SK_ID_CURR</th>\n",
       "      <th>SK_ID_BUREAU</th>\n",
       "      <th>CREDIT_ACTIVE</th>\n",
       "      <th>CREDIT_CURRENCY</th>\n",
       "      <th>DAYS_CREDIT</th>\n",
       "      <th>CREDIT_DAY_OVERDUE</th>\n",
       "      <th>DAYS_CREDIT_ENDDATE</th>\n",
       "      <th>DAYS_ENDDATE_FACT</th>\n",
       "      <th>AMT_CREDIT_MAX_OVERDUE</th>\n",
       "      <th>CNT_CREDIT_PROLONG</th>\n",
       "      <th>...</th>\n",
       "      <th>MONTHS_BALANCE_max</th>\n",
       "      <th>MONTHS_BALANCE_count</th>\n",
       "      <th>STATUS_0_count</th>\n",
       "      <th>STATUS_1_count</th>\n",
       "      <th>STATUS_2_count</th>\n",
       "      <th>STATUS_3_count</th>\n",
       "      <th>STATUS_4_count</th>\n",
       "      <th>STATUS_5_count</th>\n",
       "      <th>STATUS_C_count</th>\n",
       "      <th>STATUS_X_count</th>\n",
       "    </tr>\n",
       "  </thead>\n",
       "  <tbody>\n",
       "    <tr>\n",
       "      <th>0</th>\n",
       "      <td>215354</td>\n",
       "      <td>5714462</td>\n",
       "      <td>Closed</td>\n",
       "      <td>currency 1</td>\n",
       "      <td>-497</td>\n",
       "      <td>0</td>\n",
       "      <td>-153.0</td>\n",
       "      <td>-153.0</td>\n",
       "      <td>NaN</td>\n",
       "      <td>0</td>\n",
       "      <td>...</td>\n",
       "      <td>NaN</td>\n",
       "      <td>NaN</td>\n",
       "      <td>NaN</td>\n",
       "      <td>NaN</td>\n",
       "      <td>NaN</td>\n",
       "      <td>NaN</td>\n",
       "      <td>NaN</td>\n",
       "      <td>NaN</td>\n",
       "      <td>NaN</td>\n",
       "      <td>NaN</td>\n",
       "    </tr>\n",
       "    <tr>\n",
       "      <th>1</th>\n",
       "      <td>215354</td>\n",
       "      <td>5714463</td>\n",
       "      <td>Active</td>\n",
       "      <td>currency 1</td>\n",
       "      <td>-208</td>\n",
       "      <td>0</td>\n",
       "      <td>1075.0</td>\n",
       "      <td>NaN</td>\n",
       "      <td>NaN</td>\n",
       "      <td>0</td>\n",
       "      <td>...</td>\n",
       "      <td>NaN</td>\n",
       "      <td>NaN</td>\n",
       "      <td>NaN</td>\n",
       "      <td>NaN</td>\n",
       "      <td>NaN</td>\n",
       "      <td>NaN</td>\n",
       "      <td>NaN</td>\n",
       "      <td>NaN</td>\n",
       "      <td>NaN</td>\n",
       "      <td>NaN</td>\n",
       "    </tr>\n",
       "    <tr>\n",
       "      <th>2</th>\n",
       "      <td>215354</td>\n",
       "      <td>5714464</td>\n",
       "      <td>Active</td>\n",
       "      <td>currency 1</td>\n",
       "      <td>-203</td>\n",
       "      <td>0</td>\n",
       "      <td>528.0</td>\n",
       "      <td>NaN</td>\n",
       "      <td>NaN</td>\n",
       "      <td>0</td>\n",
       "      <td>...</td>\n",
       "      <td>NaN</td>\n",
       "      <td>NaN</td>\n",
       "      <td>NaN</td>\n",
       "      <td>NaN</td>\n",
       "      <td>NaN</td>\n",
       "      <td>NaN</td>\n",
       "      <td>NaN</td>\n",
       "      <td>NaN</td>\n",
       "      <td>NaN</td>\n",
       "      <td>NaN</td>\n",
       "    </tr>\n",
       "    <tr>\n",
       "      <th>3</th>\n",
       "      <td>215354</td>\n",
       "      <td>5714465</td>\n",
       "      <td>Active</td>\n",
       "      <td>currency 1</td>\n",
       "      <td>-203</td>\n",
       "      <td>0</td>\n",
       "      <td>NaN</td>\n",
       "      <td>NaN</td>\n",
       "      <td>NaN</td>\n",
       "      <td>0</td>\n",
       "      <td>...</td>\n",
       "      <td>NaN</td>\n",
       "      <td>NaN</td>\n",
       "      <td>NaN</td>\n",
       "      <td>NaN</td>\n",
       "      <td>NaN</td>\n",
       "      <td>NaN</td>\n",
       "      <td>NaN</td>\n",
       "      <td>NaN</td>\n",
       "      <td>NaN</td>\n",
       "      <td>NaN</td>\n",
       "    </tr>\n",
       "    <tr>\n",
       "      <th>4</th>\n",
       "      <td>215354</td>\n",
       "      <td>5714466</td>\n",
       "      <td>Active</td>\n",
       "      <td>currency 1</td>\n",
       "      <td>-629</td>\n",
       "      <td>0</td>\n",
       "      <td>1197.0</td>\n",
       "      <td>NaN</td>\n",
       "      <td>77674.5</td>\n",
       "      <td>0</td>\n",
       "      <td>...</td>\n",
       "      <td>NaN</td>\n",
       "      <td>NaN</td>\n",
       "      <td>NaN</td>\n",
       "      <td>NaN</td>\n",
       "      <td>NaN</td>\n",
       "      <td>NaN</td>\n",
       "      <td>NaN</td>\n",
       "      <td>NaN</td>\n",
       "      <td>NaN</td>\n",
       "      <td>NaN</td>\n",
       "    </tr>\n",
       "    <tr>\n",
       "      <th>...</th>\n",
       "      <td>...</td>\n",
       "      <td>...</td>\n",
       "      <td>...</td>\n",
       "      <td>...</td>\n",
       "      <td>...</td>\n",
       "      <td>...</td>\n",
       "      <td>...</td>\n",
       "      <td>...</td>\n",
       "      <td>...</td>\n",
       "      <td>...</td>\n",
       "      <td>...</td>\n",
       "      <td>...</td>\n",
       "      <td>...</td>\n",
       "      <td>...</td>\n",
       "      <td>...</td>\n",
       "      <td>...</td>\n",
       "      <td>...</td>\n",
       "      <td>...</td>\n",
       "      <td>...</td>\n",
       "      <td>...</td>\n",
       "      <td>...</td>\n",
       "    </tr>\n",
       "    <tr>\n",
       "      <th>1716423</th>\n",
       "      <td>259355</td>\n",
       "      <td>5057750</td>\n",
       "      <td>Active</td>\n",
       "      <td>currency 1</td>\n",
       "      <td>-44</td>\n",
       "      <td>0</td>\n",
       "      <td>-30.0</td>\n",
       "      <td>NaN</td>\n",
       "      <td>0.0</td>\n",
       "      <td>0</td>\n",
       "      <td>...</td>\n",
       "      <td>NaN</td>\n",
       "      <td>NaN</td>\n",
       "      <td>NaN</td>\n",
       "      <td>NaN</td>\n",
       "      <td>NaN</td>\n",
       "      <td>NaN</td>\n",
       "      <td>NaN</td>\n",
       "      <td>NaN</td>\n",
       "      <td>NaN</td>\n",
       "      <td>NaN</td>\n",
       "    </tr>\n",
       "    <tr>\n",
       "      <th>1716424</th>\n",
       "      <td>100044</td>\n",
       "      <td>5057754</td>\n",
       "      <td>Closed</td>\n",
       "      <td>currency 1</td>\n",
       "      <td>-2648</td>\n",
       "      <td>0</td>\n",
       "      <td>-2433.0</td>\n",
       "      <td>-2493.0</td>\n",
       "      <td>5476.5</td>\n",
       "      <td>0</td>\n",
       "      <td>...</td>\n",
       "      <td>NaN</td>\n",
       "      <td>NaN</td>\n",
       "      <td>NaN</td>\n",
       "      <td>NaN</td>\n",
       "      <td>NaN</td>\n",
       "      <td>NaN</td>\n",
       "      <td>NaN</td>\n",
       "      <td>NaN</td>\n",
       "      <td>NaN</td>\n",
       "      <td>NaN</td>\n",
       "    </tr>\n",
       "    <tr>\n",
       "      <th>1716425</th>\n",
       "      <td>100044</td>\n",
       "      <td>5057762</td>\n",
       "      <td>Closed</td>\n",
       "      <td>currency 1</td>\n",
       "      <td>-1809</td>\n",
       "      <td>0</td>\n",
       "      <td>-1628.0</td>\n",
       "      <td>-970.0</td>\n",
       "      <td>NaN</td>\n",
       "      <td>0</td>\n",
       "      <td>...</td>\n",
       "      <td>NaN</td>\n",
       "      <td>NaN</td>\n",
       "      <td>NaN</td>\n",
       "      <td>NaN</td>\n",
       "      <td>NaN</td>\n",
       "      <td>NaN</td>\n",
       "      <td>NaN</td>\n",
       "      <td>NaN</td>\n",
       "      <td>NaN</td>\n",
       "      <td>NaN</td>\n",
       "    </tr>\n",
       "    <tr>\n",
       "      <th>1716426</th>\n",
       "      <td>246829</td>\n",
       "      <td>5057770</td>\n",
       "      <td>Closed</td>\n",
       "      <td>currency 1</td>\n",
       "      <td>-1878</td>\n",
       "      <td>0</td>\n",
       "      <td>-1513.0</td>\n",
       "      <td>-1513.0</td>\n",
       "      <td>NaN</td>\n",
       "      <td>0</td>\n",
       "      <td>...</td>\n",
       "      <td>NaN</td>\n",
       "      <td>NaN</td>\n",
       "      <td>NaN</td>\n",
       "      <td>NaN</td>\n",
       "      <td>NaN</td>\n",
       "      <td>NaN</td>\n",
       "      <td>NaN</td>\n",
       "      <td>NaN</td>\n",
       "      <td>NaN</td>\n",
       "      <td>NaN</td>\n",
       "    </tr>\n",
       "    <tr>\n",
       "      <th>1716427</th>\n",
       "      <td>246829</td>\n",
       "      <td>5057778</td>\n",
       "      <td>Closed</td>\n",
       "      <td>currency 1</td>\n",
       "      <td>-463</td>\n",
       "      <td>0</td>\n",
       "      <td>NaN</td>\n",
       "      <td>-387.0</td>\n",
       "      <td>NaN</td>\n",
       "      <td>0</td>\n",
       "      <td>...</td>\n",
       "      <td>NaN</td>\n",
       "      <td>NaN</td>\n",
       "      <td>NaN</td>\n",
       "      <td>NaN</td>\n",
       "      <td>NaN</td>\n",
       "      <td>NaN</td>\n",
       "      <td>NaN</td>\n",
       "      <td>NaN</td>\n",
       "      <td>NaN</td>\n",
       "      <td>NaN</td>\n",
       "    </tr>\n",
       "  </tbody>\n",
       "</table>\n",
       "<p>1716428 rows × 28 columns</p>\n",
       "</div>"
      ]
     },
     "execution_count": 115,
     "metadata": {},
     "output_type": "execute_result"
    }
   ],
   "execution_count": 115
  },
  {
   "metadata": {
    "ExecuteTime": {
     "end_time": "2024-05-30T02:18:00.280840Z",
     "start_time": "2024-05-30T02:18:00.272442Z"
    }
   },
   "cell_type": "code",
   "source": [
    "drop_view_query = \"DROP VIEW IF EXISTS bureau_balance_agg;\"\n",
    "cur.execute(drop_view_query)"
   ],
   "id": "dc0f50f006b966be",
   "outputs": [
    {
     "data": {
      "text/plain": [
       "<sqlite3.Cursor at 0x1a5d920f3c0>"
      ]
     },
     "execution_count": 121,
     "metadata": {},
     "output_type": "execute_result"
    }
   ],
   "execution_count": 121
  },
  {
   "metadata": {},
   "cell_type": "markdown",
   "source": "#### Drop Column",
   "id": "b807709e358f7abe"
  },
  {
   "metadata": {},
   "cell_type": "code",
   "outputs": [],
   "execution_count": null,
   "source": "excluded_column = ['SK_ID_CURR', 'SK_ID_BUREAU']",
   "id": "d7c7b15b1683116"
  },
  {
   "metadata": {},
   "cell_type": "code",
   "outputs": [],
   "execution_count": null,
   "source": "",
   "id": "2037a070fd1afec6"
  }
 ],
 "metadata": {
  "kernelspec": {
   "display_name": "Python 3",
   "language": "python",
   "name": "python3"
  },
  "language_info": {
   "codemirror_mode": {
    "name": "ipython",
    "version": 3
   },
   "file_extension": ".py",
   "mimetype": "text/x-python",
   "name": "python",
   "nbconvert_exporter": "python",
   "pygments_lexer": "ipython3",
   "version": "3.11.9"
  }
 },
 "nbformat": 4,
 "nbformat_minor": 5
}
